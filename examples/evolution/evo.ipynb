{
 "cells": [
  {
   "cell_type": "code",
   "execution_count": null,
   "metadata": {},
   "outputs": [],
   "source": [
    "import eko\n",
    "import pineappl \n",
    "import numpy as np\n",
    "import yaml\n",
    "import pdffit\n",
    "from pdffit.examples import parametrizations as pars\n",
    "import torch\n",
    "from matplotlib import pyplot as plt\n",
    "\n",
    "plt.rcParams.update({\n",
    "    #\"figure.dpi\": 100,               \n",
    "    #\"savefig.dpi\": 100,             \n",
    "    \"figure.figsize\": (10, 6),\n",
    "    'text.usetex': True,\n",
    "    \"font.family\": 'Computer Modern',  \n",
    "    \"font.size\": 15     \n",
    "})\n",
    "\n",
    "device = pdffit.device"
   ]
  },
  {
   "cell_type": "code",
   "execution_count": null,
   "metadata": {},
   "outputs": [],
   "source": [
    "def sort_rm(channels):\n",
    "\tev_pid = np.array(eko.basis_rotation.evol_basis_pids)\n",
    "\tidx = np.zeros(np.shape(channels)[0], dtype=np.int32)\n",
    "\tfor i, item in enumerate(channels):\n",
    "\t\tidx[i] = np.sum(np.where(ev_pid == item[0], np.arange(0, np.shape(ev_pid)[0]), 0))\n",
    "\treturn eko.basis_rotation.rotate_flavor_to_evolution[idx]\n",
    "\n",
    "def beta_pdf(x, b):\n",
    "    return torch.exp(b.log_prob(x))\n",
    "\n",
    "def to_sigmared(fk, rotpdf):\n",
    "\treturn (fk[:,:,:,0] * rotpdf).sum((1,2))"
   ]
  },
  {
   "cell_type": "code",
   "execution_count": null,
   "metadata": {},
   "outputs": [],
   "source": [
    "with open(\"/afs/ipp-garching.mpg.de/home/h/hildebra/MA/data/evo/sigmareds/HERA_NC_318GEV_data_EM-SIGMARED_153.yaml\", 'r') as f:\n",
    "\tsigmared = torch.tensor(yaml.safe_load(f)[\"data_central\"], device=device).detach()"
   ]
  },
  {
   "cell_type": "code",
   "execution_count": null,
   "metadata": {},
   "outputs": [],
   "source": [
    "fk = pineappl.fk_table.FkTable.read(\"/afs/ipp-garching.mpg.de/home/h/hildebra/MA/data/evo/fktables/HERA_NC_318GEV_EM_SIGMARED_153.pineappl.lz4\")\n",
    "fkm = torch.tensor(fk.table(), device=device, dtype=torch.float32).detach()\n",
    "#fk._raw.table().shape\n",
    "#fk._raw.channels()"
   ]
  },
  {
   "cell_type": "code",
   "execution_count": null,
   "metadata": {},
   "outputs": [],
   "source": [
    "fkm.shape"
   ]
  },
  {
   "cell_type": "code",
   "execution_count": null,
   "metadata": {},
   "outputs": [],
   "source": [
    "srm = torch.tensor(sort_rm(fk._raw.channels()), device=device, dtype=torch.float32)\n",
    "srm"
   ]
  },
  {
   "cell_type": "code",
   "execution_count": null,
   "metadata": {},
   "outputs": [],
   "source": [
    "beta_uv = torch.distributions.Beta(torch.tensor(2.0, device=device), torch.tensor(7.0, device=device))\n",
    "beta_ub = torch.distributions.Beta(torch.tensor(0.8, device=device), torch.tensor(5.0, device=device))\n",
    "beta_dv = torch.distributions.Beta(torch.tensor(2.0, device=device), torch.tensor(7.0, device=device))\n",
    "beta_db = torch.distributions.Beta(torch.tensor(0.8, device=device), torch.tensor(5.0, device=device))\n",
    "beta_g  = torch.distributions.Beta(torch.tensor(0.8, device=device), torch.tensor(5.0, device=device))\n",
    "\n",
    "\n",
    "delta_uv   = 0.3\n",
    "delta_dv   = 0.15\n",
    "delta_dsea = 0.05\n",
    "delta_usea = 0.075\n",
    "delta_g    = 0.3"
   ]
  },
  {
   "cell_type": "code",
   "execution_count": null,
   "metadata": {},
   "outputs": [],
   "source": [
    "xgrid = torch.tensor(fk._raw.x_grid(), device=device, dtype=torch.float32).view(-1,1).detach()"
   ]
  },
  {
   "cell_type": "code",
   "execution_count": null,
   "metadata": {},
   "outputs": [],
   "source": [
    "hidden_dim=64\n",
    "in_out_dim=1\n",
    "\n",
    "uv_net \t   = pdffit.nn.DFF_f(in_out_dim, hidden_dim, trafo=\"sig\", w_init_=True).to(device)\n",
    "ub_net \t   = pdffit.nn.DFF_f(in_out_dim, hidden_dim, trafo=\"sig\", w_init_=True).to(device)\n",
    "dv_net \t   = pdffit.nn.DFF_f(in_out_dim, hidden_dim, trafo=\"sig\", w_init_=True).to(device)\n",
    "db_net \t   = pdffit.nn.DFF_f(in_out_dim, hidden_dim, trafo=\"sig\", w_init_=True).to(device)\n",
    "g_net  \t   = pdffit.nn.DFF_f(in_out_dim, hidden_dim, trafo=\"sig\", w_init_=True).to(device) \n",
    "\n",
    "uv_inv_net = pdffit.nn.DFF_g(in_out_dim, hidden_dim, trafo=\"sig\").to(device)\n",
    "ub_inv_net = pdffit.nn.DFF_g(in_out_dim, hidden_dim, trafo=\"sig\").to(device)\n",
    "dv_inv_net = pdffit.nn.DFF_g(in_out_dim, hidden_dim, trafo=\"sig\").to(device)\n",
    "db_inv_net = pdffit.nn.DFF_g(in_out_dim, hidden_dim, trafo=\"sig\").to(device)\n",
    "g_inv_net  = pdffit.nn.DFF_g(in_out_dim, hidden_dim, trafo=\"sig\").to(device) \n",
    "\n",
    "params = list(uv_net.parameters()) + list(ub_net.parameters()) + list(dv_net.parameters()) + list(db_net.parameters()) + list(g_net.parameters()) + list(\n",
    "          uv_inv_net.parameters()) + list(ub_inv_net.parameters()) + list(dv_inv_net.parameters()) + list(db_inv_net.parameters()) + list(g_inv_net.parameters())"
   ]
  },
  {
   "cell_type": "code",
   "execution_count": null,
   "metadata": {},
   "outputs": [],
   "source": [
    "pdffit.plot_trafo(g_net)"
   ]
  },
  {
   "cell_type": "code",
   "execution_count": null,
   "metadata": {},
   "outputs": [],
   "source": [
    "opt = torch.optim.NAdam(params, lr=1e-3)\n",
    "mse = torch.nn.MSELoss()"
   ]
  },
  {
   "cell_type": "code",
   "execution_count": null,
   "metadata": {},
   "outputs": [],
   "source": [
    "debug_ = 0\n",
    "\n",
    "for itr in range(50000):\n",
    "\topt.zero_grad()\n",
    "\n",
    "\tuv_flown = pdffit.nn.flown(xgrid, uv_net, beta_uv).exp()\n",
    "\tub_flown = pdffit.nn.flown(xgrid, ub_net, beta_ub).exp()\n",
    "\tdv_flown = pdffit.nn.flown(xgrid, dv_net, beta_dv).exp()\n",
    "\tdb_flown = pdffit.nn.flown(xgrid, db_net, beta_db).exp()\n",
    "\tg_flown  = pdffit.nn.flown(xgrid, g_net , beta_g ).exp()\n",
    "\n",
    "\tpdf_m = torch.zeros((14, uv_flown.shape[0]), device=device, dtype=torch.float32)\n",
    "\n",
    "\tpdf_m[9] = delta_uv  *uv_flown.view(-1) + delta_usea*ub_flown.view(-1)\n",
    "\tpdf_m[5] = delta_usea*ub_flown.view(-1)\n",
    "\tpdf_m[7] = delta_g   *g_flown.view(-1)\n",
    "\tpdf_m[8] = delta_dv  *dv_flown.view(-1) + delta_dsea*db_flown.view(-1)\n",
    "\tpdf_m[6] = delta_dsea*db_flown.view(-1)\n",
    "\n",
    "\trot_pdf = torch.matmul(srm.detach(), pdf_m/xgrid.view(1,-1))\n",
    "\n",
    "\tloss = mse(to_sigmared(fkm.detach(), rot_pdf), sigmared.detach())\n",
    "\tloss.backward()\n",
    "\topt.step()\n",
    "\n",
    "\tif itr % 250 == 0:\n",
    "\t\t# debug = to_sigmared(fkm, rot_pdf)\n",
    "\t\t# debug_ = uv_net(xgrid)\n",
    "\t\tprint(itr, \" \", loss.item())"
   ]
  },
  {
   "cell_type": "code",
   "execution_count": null,
   "metadata": {},
   "outputs": [],
   "source": [
    "plt.ylim(0, 1.3)\n",
    "plt.xlim(0, 1)\n",
    "bounds = (1e-4, 1-1e-4)\n",
    "\n",
    "pdffit.plot_densities(uv_net, uv_inv_net, beta_uv, beta_uv, tb_disp=(False, True), fi_disp=(True, False), fac=delta_uv  , bounds = bounds, fcolor=\"C0\", bcolor=\"C0\", balpha=0.4, blabel=None, flabel=r'$x u_v(x)$'         )\n",
    "pdffit.plot_densities(ub_net, ub_inv_net, beta_ub, beta_ub, tb_disp=(False, True), fi_disp=(True, False), fac=delta_usea, bounds = bounds, fcolor=\"C1\", bcolor=\"C1\", balpha=0.4, blabel=None, flabel=r'$x d_v(x)$'         )\n",
    "pdffit.plot_densities(dv_net, dv_inv_net, beta_dv, beta_dv, tb_disp=(False, True), fi_disp=(True, False), fac=delta_dv  , bounds = bounds, fcolor=\"C3\", bcolor=\"C3\", balpha=0.4, blabel=None, flabel=r'$x u_s(x)$'         )\n",
    "pdffit.plot_densities(db_net, db_inv_net, beta_db, beta_db, tb_disp=(False, True), fi_disp=(True, False), fac=delta_dsea, bounds = bounds, fcolor=\"C2\", bcolor=\"C2\", balpha=0.4, blabel=None, flabel=r'$x d_s(x)$'         )\n",
    "pdffit.plot_densities(g_net , g_inv_net , beta_g , beta_g , tb_disp=(False, True), fi_disp=(True, False), fac=delta_g   , bounds = bounds, fcolor=\"C4\", bcolor=\"C4\", balpha=0.4, blabel=None, flabel=r'$x (g_v(x)+g_s(x))$')\n",
    "\n",
    "plt.plot(0,0, \"k\", label=\"Flown Density\")\n",
    "#plt.plot(0,0, \"k\", ls=\"--\", alpha=0.4, label=\"Mean Adjusted\")\n",
    "plt.plot(0,0, \"k\", lw=4, alpha=0.4, label=\"Base Density\")\n",
    "\n",
    "plt.title(\"Momentum Density Transformations\", fontsize=25)\n",
    "plt.ylabel(r\"$x f_i(x)$\", fontsize=25)\n",
    "plt.xlabel(r\"$x$\", fontsize=25)\n",
    "plt.legend(fontsize=15)\n",
    "#plt.hist(gluons(p_z1_x_g1, p_z1_x_g2).sample((1,500000))[0].cpu().numpy(),density=True, range=(0.0000001,1), bins=500)\n",
    "#plt.yscale('log')\n",
    "#plt.savefig(\"flow_pmd.pdf\", bbox_inches='tight')"
   ]
  },
  {
   "cell_type": "code",
   "execution_count": null,
   "metadata": {},
   "outputs": [],
   "source": [
    "import importlib\n",
    "importlib.reload(pdffit.viz.plot_utils)\n",
    "importlib.reload(pdffit.nn)\n",
    "importlib.reload(pdffit)"
   ]
  }
 ],
 "metadata": {
  "kernelspec": {
   "display_name": "py313MA",
   "language": "python",
   "name": "python3"
  },
  "language_info": {
   "codemirror_mode": {
    "name": "ipython",
    "version": 3
   },
   "file_extension": ".py",
   "mimetype": "text/x-python",
   "name": "python",
   "nbconvert_exporter": "python",
   "pygments_lexer": "ipython3",
   "version": "3.13.2"
  }
 },
 "nbformat": 4,
 "nbformat_minor": 2
}
